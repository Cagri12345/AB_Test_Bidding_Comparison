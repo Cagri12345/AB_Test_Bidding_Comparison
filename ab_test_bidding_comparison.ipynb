{
  "nbformat": 4,
  "nbformat_minor": 0,
  "metadata": {
    "colab": {
      "provenance": []
    },
    "kernelspec": {
      "name": "python3",
      "display_name": "Python 3"
    },
    "language_info": {
      "name": "python"
    }
  },
  "cells": [
    {
      "cell_type": "code",
      "source": [
        "######################################################\n",
        "# İŞ PROBLEMİ\n",
        "######################################################"
      ],
      "metadata": {
        "id": "CVnYO8ZttWVF"
      },
      "execution_count": 30,
      "outputs": []
    },
    {
      "cell_type": "code",
      "source": [
        "# Facebook kısa süre önce mevcut \"maximumbidding\" adı verilen teklif verme türüne alternatif olarak yeni\n",
        "# bir teklif türü olan \"average bidding\"’i tanıttı. Müşterilerimizden biri olan bombabomba.com, bu yeni özelliği\n",
        "# test etmeye karar verdi ve average bidding'in maximumbidding'den daha fazla dönüşüm getirip getirmediğini anlamak için bir A/B testi yapmak istiyor.\n",
        "# A/B testi 1 aydır devam ediyor ve bombabomba.com şimdi sizden bu A/B testinin sonuçlarını analiz etmenizi bekliyor.\n",
        "# Bombabomba.com için nihai başarı ölçütü Purchase'dır. Bu nedenle, istatistiksel testler için Purchase metriğine odaklanılmalıdır."
      ],
      "metadata": {
        "id": "QsSLlvIEnWSB"
      },
      "execution_count": 31,
      "outputs": []
    },
    {
      "cell_type": "code",
      "source": [
        "#####################################################\n",
        "# VERİ SETİ HİKAYESİ\n",
        "#####################################################"
      ],
      "metadata": {
        "id": "RAi2itVMtcgT"
      },
      "execution_count": 32,
      "outputs": []
    },
    {
      "cell_type": "code",
      "source": [
        "# Bir firmanın web sitesi bilgilerini içeren bu veri setinde kullanıcıların gördükleri ve tıkladıkları\n",
        "# reklam sayıları gibi bilgilerin yanı sıra buradan gelen kazanç bilgileri yer almaktadır. Kontrol ve Test\n",
        "# grubu olmak üzere iki ayrı veri seti vardır. Bu veri setleri ab_testing.xlsx excel’in ayrı sayfalarında yer\n",
        "# almaktadır. Kontrol grubuna Maximum Bidding, test grubuna Average Bidding uygulanmıştır."
      ],
      "metadata": {
        "id": "aOU65a0cosn0"
      },
      "execution_count": 33,
      "outputs": []
    },
    {
      "cell_type": "code",
      "source": [
        "# impression: Reklam görüntüleme sayısı\n",
        "# Click: Görüntülenen reklama tıklama sayısı\n",
        "# Purchase: Tıklanan reklamlar sonrası satın alınan ürün sayısı\n",
        "# Earning: Satın alınan ürünler sonrası elde edilen kazanç"
      ],
      "metadata": {
        "id": "eyDYDWeDqUu2"
      },
      "execution_count": 34,
      "outputs": []
    },
    {
      "cell_type": "code",
      "source": [
        "#####################################################\n",
        "# PROJE GÖREVLERİ\n",
        "#####################################################"
      ],
      "metadata": {
        "id": "Jdf01EWttkXm"
      },
      "execution_count": 35,
      "outputs": []
    },
    {
      "cell_type": "code",
      "source": [
        "#####################################################\n",
        "# Görev 1:  Veriyi Hazırlama ve Analiz Etme\n",
        "#####################################################"
      ],
      "metadata": {
        "id": "HZmDo0wvtpLi"
      },
      "execution_count": 36,
      "outputs": []
    },
    {
      "cell_type": "code",
      "source": [
        "import pandas as pd\n",
        "import numpy as np\n",
        "import pandas as pd\n",
        "import seaborn as sns\n",
        "import matplotlib.pyplot as plt\n",
        "from scipy.stats import shapiro, levene, ttest_ind"
      ],
      "metadata": {
        "id": "JiNiWTTItuHa"
      },
      "execution_count": 37,
      "outputs": []
    },
    {
      "cell_type": "code",
      "source": [
        "pd.set_option(\"display.max_columns\", None)      # Tüm sütunların gözükmesini sağlar\n",
        "pd.set_option(\"display.expand_frame_repr\", False)      # Dataframe çıktısının tek satırda gösterilmesi sağlar\n",
        "pd.set_option(\"display.float_format\", lambda x: '%.5f' % x)    # Ondalık sayıları 5 basamaklı şeklinde gösterir"
      ],
      "metadata": {
        "id": "C5Nu1v76uDwR"
      },
      "execution_count": 38,
      "outputs": []
    },
    {
      "cell_type": "code",
      "source": [
        "dataframe_control = pd.read_excel(\"/content/ab_testing.xlsx\" , sheet_name=\"Control Group\")\n",
        "dataframe_test = pd.read_excel(\"/content/ab_testing.xlsx\" , sheet_name=\"Test Group\")"
      ],
      "metadata": {
        "id": "KNYtJboa4ocf"
      },
      "execution_count": 39,
      "outputs": []
    },
    {
      "cell_type": "code",
      "source": [
        "df_control = dataframe_control.copy()\n",
        "df_test = dataframe_test.copy()"
      ],
      "metadata": {
        "id": "cfhQ0JrP4_t8"
      },
      "execution_count": 40,
      "outputs": []
    },
    {
      "cell_type": "code",
      "source": [
        "def check_df(dataframe, head=5):\n",
        "    print(\"##################### Shape #####################\")\n",
        "    print(dataframe.shape)\n",
        "    print(\"##################### Types #####################\")\n",
        "    print(dataframe.dtypes)\n",
        "    print(\"##################### Head #####################\")\n",
        "    print(dataframe.head())\n",
        "    print(\"##################### Tail #####################\")\n",
        "    print(dataframe.tail())\n",
        "    print(\"##################### NA #####################\")\n",
        "    print(dataframe.isnull().sum())\n",
        "    print(\"##################### Quantiles #####################\")\n",
        "    print(dataframe.quantile([0, 0.05, 0.50, 0.95, 0.99, 1]).T)"
      ],
      "metadata": {
        "id": "o_gjtRt75Ehf"
      },
      "execution_count": 41,
      "outputs": []
    },
    {
      "cell_type": "code",
      "source": [
        "check_df(df_control)"
      ],
      "metadata": {
        "colab": {
          "base_uri": "https://localhost:8080/"
        },
        "id": "7AZivYCX5Ihb",
        "outputId": "e2e14f3f-6f92-4c2d-cbd3-430397e76599"
      },
      "execution_count": 42,
      "outputs": [
        {
          "output_type": "stream",
          "name": "stdout",
          "text": [
            "##################### Shape #####################\n",
            "(40, 4)\n",
            "##################### Types #####################\n",
            "Impression    float64\n",
            "Click         float64\n",
            "Purchase      float64\n",
            "Earning       float64\n",
            "dtype: object\n",
            "##################### Head #####################\n",
            "    Impression      Click  Purchase    Earning\n",
            "0  82529.45927 6090.07732 665.21125 2311.27714\n",
            "1  98050.45193 3382.86179 315.08489 1742.80686\n",
            "2  82696.02355 4167.96575 458.08374 1797.82745\n",
            "3 109914.40040 4910.88224 487.09077 1696.22918\n",
            "4 108457.76263 5987.65581 441.03405 1543.72018\n",
            "##################### Tail #####################\n",
            "     Impression      Click  Purchase    Earning\n",
            "35 132064.21900 3747.15754 551.07241 2256.97559\n",
            "36  86409.94180 4608.25621 345.04603 1781.35769\n",
            "37 123678.93423 3649.07379 476.16813 2187.72122\n",
            "38 101997.49410 4736.35337 474.61354 2254.56383\n",
            "39 121085.88122 4285.17861 590.40602 1289.30895\n",
            "##################### NA #####################\n",
            "Impression    0\n",
            "Click         0\n",
            "Purchase      0\n",
            "Earning       0\n",
            "dtype: int64\n",
            "##################### Quantiles #####################\n",
            "               0.00000     0.05000     0.50000      0.95000      0.99000      1.00000\n",
            "Impression 45475.94296 79412.01792 99790.70108 132950.53245 143105.79110 147539.33633\n",
            "Click       2189.75316  3367.48426  5001.22060   7374.36120   7761.79511   7959.12507\n",
            "Purchase     267.02894   328.66242   531.20631    748.27076    790.18779    801.79502\n",
            "Earning     1253.98952  1329.57708  1975.16052   2318.52850   2481.30874   2497.29522\n"
          ]
        }
      ]
    },
    {
      "cell_type": "code",
      "source": [
        "check_df(df_test)"
      ],
      "metadata": {
        "colab": {
          "base_uri": "https://localhost:8080/"
        },
        "id": "xRv70Dcf5mI5",
        "outputId": "becc82d5-fcd5-4c3e-b269-1ef93910ab3f"
      },
      "execution_count": 43,
      "outputs": [
        {
          "output_type": "stream",
          "name": "stdout",
          "text": [
            "##################### Shape #####################\n",
            "(40, 4)\n",
            "##################### Types #####################\n",
            "Impression    float64\n",
            "Click         float64\n",
            "Purchase      float64\n",
            "Earning       float64\n",
            "dtype: object\n",
            "##################### Head #####################\n",
            "    Impression      Click  Purchase    Earning\n",
            "0 120103.50380 3216.54796 702.16035 1939.61124\n",
            "1 134775.94336 3635.08242 834.05429 2929.40582\n",
            "2 107806.62079 3057.14356 422.93426 2526.24488\n",
            "3 116445.27553 4650.47391 429.03353 2281.42857\n",
            "4 145082.51684 5201.38772 749.86044 2781.69752\n",
            "##################### Tail #####################\n",
            "     Impression      Click  Purchase    Earning\n",
            "35  79234.91193 6002.21358 382.04712 2277.86398\n",
            "36 130702.23941 3626.32007 449.82459 2530.84133\n",
            "37 116481.87337 4702.78247 472.45373 2597.91763\n",
            "38  79033.83492 4495.42818 425.35910 2595.85788\n",
            "39 102257.45409 4800.06832 521.31073 2967.51839\n",
            "##################### NA #####################\n",
            "Impression    0\n",
            "Click         0\n",
            "Purchase      0\n",
            "Earning       0\n",
            "dtype: int64\n",
            "##################### Quantiles #####################\n",
            "               0.00000     0.05000      0.50000      0.95000      0.99000      1.00000\n",
            "Impression 79033.83492 83150.50378 119291.30077 153178.69106 158245.26380 158605.92048\n",
            "Click       1836.62986  2600.36102   3931.35980   5271.18691   6012.87730   6019.69508\n",
            "Purchase     311.62952   356.69540    551.35573    854.20895    876.57610    889.91046\n",
            "Earning     1939.61124  2080.97621   2544.66611   2931.31145   3091.94089   3171.48971\n"
          ]
        }
      ]
    },
    {
      "cell_type": "code",
      "source": [
        "df_control[\"group\"] = \"control\"\n",
        "df_test[\"group\"] = \"test\""
      ],
      "metadata": {
        "id": "-_fe8CX3GJCJ"
      },
      "execution_count": 44,
      "outputs": []
    },
    {
      "cell_type": "code",
      "source": [
        "df = pd.concat([df_control, df_test], axis=0, ignore_index=False)   # axis=0 satıra göre birleştirme\n",
        "# ignore_index=False , kaldığı yerden indekse devam et"
      ],
      "metadata": {
        "id": "aSH_aR38HLJ2"
      },
      "execution_count": 45,
      "outputs": []
    },
    {
      "cell_type": "code",
      "source": [
        "df.head()"
      ],
      "metadata": {
        "colab": {
          "base_uri": "https://localhost:8080/",
          "height": 206
        },
        "id": "8yo2kvjFHUjv",
        "outputId": "de35c60b-c42d-4844-f8d0-abe2102434b1"
      },
      "execution_count": 46,
      "outputs": [
        {
          "output_type": "execute_result",
          "data": {
            "text/plain": [
              "    Impression      Click  Purchase    Earning    group\n",
              "0  82529.45927 6090.07732 665.21125 2311.27714  control\n",
              "1  98050.45193 3382.86179 315.08489 1742.80686  control\n",
              "2  82696.02355 4167.96575 458.08374 1797.82745  control\n",
              "3 109914.40040 4910.88224 487.09077 1696.22918  control\n",
              "4 108457.76263 5987.65581 441.03405 1543.72018  control"
            ],
            "text/html": [
              "\n",
              "  <div id=\"df-b8e1314c-b1dd-4e39-9a38-4a2e8b5ca088\" class=\"colab-df-container\">\n",
              "    <div>\n",
              "<style scoped>\n",
              "    .dataframe tbody tr th:only-of-type {\n",
              "        vertical-align: middle;\n",
              "    }\n",
              "\n",
              "    .dataframe tbody tr th {\n",
              "        vertical-align: top;\n",
              "    }\n",
              "\n",
              "    .dataframe thead th {\n",
              "        text-align: right;\n",
              "    }\n",
              "</style>\n",
              "<table border=\"1\" class=\"dataframe\">\n",
              "  <thead>\n",
              "    <tr style=\"text-align: right;\">\n",
              "      <th></th>\n",
              "      <th>Impression</th>\n",
              "      <th>Click</th>\n",
              "      <th>Purchase</th>\n",
              "      <th>Earning</th>\n",
              "      <th>group</th>\n",
              "    </tr>\n",
              "  </thead>\n",
              "  <tbody>\n",
              "    <tr>\n",
              "      <th>0</th>\n",
              "      <td>82529.45927</td>\n",
              "      <td>6090.07732</td>\n",
              "      <td>665.21125</td>\n",
              "      <td>2311.27714</td>\n",
              "      <td>control</td>\n",
              "    </tr>\n",
              "    <tr>\n",
              "      <th>1</th>\n",
              "      <td>98050.45193</td>\n",
              "      <td>3382.86179</td>\n",
              "      <td>315.08489</td>\n",
              "      <td>1742.80686</td>\n",
              "      <td>control</td>\n",
              "    </tr>\n",
              "    <tr>\n",
              "      <th>2</th>\n",
              "      <td>82696.02355</td>\n",
              "      <td>4167.96575</td>\n",
              "      <td>458.08374</td>\n",
              "      <td>1797.82745</td>\n",
              "      <td>control</td>\n",
              "    </tr>\n",
              "    <tr>\n",
              "      <th>3</th>\n",
              "      <td>109914.40040</td>\n",
              "      <td>4910.88224</td>\n",
              "      <td>487.09077</td>\n",
              "      <td>1696.22918</td>\n",
              "      <td>control</td>\n",
              "    </tr>\n",
              "    <tr>\n",
              "      <th>4</th>\n",
              "      <td>108457.76263</td>\n",
              "      <td>5987.65581</td>\n",
              "      <td>441.03405</td>\n",
              "      <td>1543.72018</td>\n",
              "      <td>control</td>\n",
              "    </tr>\n",
              "  </tbody>\n",
              "</table>\n",
              "</div>\n",
              "    <div class=\"colab-df-buttons\">\n",
              "\n",
              "  <div class=\"colab-df-container\">\n",
              "    <button class=\"colab-df-convert\" onclick=\"convertToInteractive('df-b8e1314c-b1dd-4e39-9a38-4a2e8b5ca088')\"\n",
              "            title=\"Convert this dataframe to an interactive table.\"\n",
              "            style=\"display:none;\">\n",
              "\n",
              "  <svg xmlns=\"http://www.w3.org/2000/svg\" height=\"24px\" viewBox=\"0 -960 960 960\">\n",
              "    <path d=\"M120-120v-720h720v720H120Zm60-500h600v-160H180v160Zm220 220h160v-160H400v160Zm0 220h160v-160H400v160ZM180-400h160v-160H180v160Zm440 0h160v-160H620v160ZM180-180h160v-160H180v160Zm440 0h160v-160H620v160Z\"/>\n",
              "  </svg>\n",
              "    </button>\n",
              "\n",
              "  <style>\n",
              "    .colab-df-container {\n",
              "      display:flex;\n",
              "      gap: 12px;\n",
              "    }\n",
              "\n",
              "    .colab-df-convert {\n",
              "      background-color: #E8F0FE;\n",
              "      border: none;\n",
              "      border-radius: 50%;\n",
              "      cursor: pointer;\n",
              "      display: none;\n",
              "      fill: #1967D2;\n",
              "      height: 32px;\n",
              "      padding: 0 0 0 0;\n",
              "      width: 32px;\n",
              "    }\n",
              "\n",
              "    .colab-df-convert:hover {\n",
              "      background-color: #E2EBFA;\n",
              "      box-shadow: 0px 1px 2px rgba(60, 64, 67, 0.3), 0px 1px 3px 1px rgba(60, 64, 67, 0.15);\n",
              "      fill: #174EA6;\n",
              "    }\n",
              "\n",
              "    .colab-df-buttons div {\n",
              "      margin-bottom: 4px;\n",
              "    }\n",
              "\n",
              "    [theme=dark] .colab-df-convert {\n",
              "      background-color: #3B4455;\n",
              "      fill: #D2E3FC;\n",
              "    }\n",
              "\n",
              "    [theme=dark] .colab-df-convert:hover {\n",
              "      background-color: #434B5C;\n",
              "      box-shadow: 0px 1px 3px 1px rgba(0, 0, 0, 0.15);\n",
              "      filter: drop-shadow(0px 1px 2px rgba(0, 0, 0, 0.3));\n",
              "      fill: #FFFFFF;\n",
              "    }\n",
              "  </style>\n",
              "\n",
              "    <script>\n",
              "      const buttonEl =\n",
              "        document.querySelector('#df-b8e1314c-b1dd-4e39-9a38-4a2e8b5ca088 button.colab-df-convert');\n",
              "      buttonEl.style.display =\n",
              "        google.colab.kernel.accessAllowed ? 'block' : 'none';\n",
              "\n",
              "      async function convertToInteractive(key) {\n",
              "        const element = document.querySelector('#df-b8e1314c-b1dd-4e39-9a38-4a2e8b5ca088');\n",
              "        const dataTable =\n",
              "          await google.colab.kernel.invokeFunction('convertToInteractive',\n",
              "                                                    [key], {});\n",
              "        if (!dataTable) return;\n",
              "\n",
              "        const docLinkHtml = 'Like what you see? Visit the ' +\n",
              "          '<a target=\"_blank\" href=https://colab.research.google.com/notebooks/data_table.ipynb>data table notebook</a>'\n",
              "          + ' to learn more about interactive tables.';\n",
              "        element.innerHTML = '';\n",
              "        dataTable['output_type'] = 'display_data';\n",
              "        await google.colab.output.renderOutput(dataTable, element);\n",
              "        const docLink = document.createElement('div');\n",
              "        docLink.innerHTML = docLinkHtml;\n",
              "        element.appendChild(docLink);\n",
              "      }\n",
              "    </script>\n",
              "  </div>\n",
              "\n",
              "\n",
              "    <div id=\"df-f7294981-eb44-440a-90e5-3b8e184ea112\">\n",
              "      <button class=\"colab-df-quickchart\" onclick=\"quickchart('df-f7294981-eb44-440a-90e5-3b8e184ea112')\"\n",
              "                title=\"Suggest charts\"\n",
              "                style=\"display:none;\">\n",
              "\n",
              "<svg xmlns=\"http://www.w3.org/2000/svg\" height=\"24px\"viewBox=\"0 0 24 24\"\n",
              "     width=\"24px\">\n",
              "    <g>\n",
              "        <path d=\"M19 3H5c-1.1 0-2 .9-2 2v14c0 1.1.9 2 2 2h14c1.1 0 2-.9 2-2V5c0-1.1-.9-2-2-2zM9 17H7v-7h2v7zm4 0h-2V7h2v10zm4 0h-2v-4h2v4z\"/>\n",
              "    </g>\n",
              "</svg>\n",
              "      </button>\n",
              "\n",
              "<style>\n",
              "  .colab-df-quickchart {\n",
              "      --bg-color: #E8F0FE;\n",
              "      --fill-color: #1967D2;\n",
              "      --hover-bg-color: #E2EBFA;\n",
              "      --hover-fill-color: #174EA6;\n",
              "      --disabled-fill-color: #AAA;\n",
              "      --disabled-bg-color: #DDD;\n",
              "  }\n",
              "\n",
              "  [theme=dark] .colab-df-quickchart {\n",
              "      --bg-color: #3B4455;\n",
              "      --fill-color: #D2E3FC;\n",
              "      --hover-bg-color: #434B5C;\n",
              "      --hover-fill-color: #FFFFFF;\n",
              "      --disabled-bg-color: #3B4455;\n",
              "      --disabled-fill-color: #666;\n",
              "  }\n",
              "\n",
              "  .colab-df-quickchart {\n",
              "    background-color: var(--bg-color);\n",
              "    border: none;\n",
              "    border-radius: 50%;\n",
              "    cursor: pointer;\n",
              "    display: none;\n",
              "    fill: var(--fill-color);\n",
              "    height: 32px;\n",
              "    padding: 0;\n",
              "    width: 32px;\n",
              "  }\n",
              "\n",
              "  .colab-df-quickchart:hover {\n",
              "    background-color: var(--hover-bg-color);\n",
              "    box-shadow: 0 1px 2px rgba(60, 64, 67, 0.3), 0 1px 3px 1px rgba(60, 64, 67, 0.15);\n",
              "    fill: var(--button-hover-fill-color);\n",
              "  }\n",
              "\n",
              "  .colab-df-quickchart-complete:disabled,\n",
              "  .colab-df-quickchart-complete:disabled:hover {\n",
              "    background-color: var(--disabled-bg-color);\n",
              "    fill: var(--disabled-fill-color);\n",
              "    box-shadow: none;\n",
              "  }\n",
              "\n",
              "  .colab-df-spinner {\n",
              "    border: 2px solid var(--fill-color);\n",
              "    border-color: transparent;\n",
              "    border-bottom-color: var(--fill-color);\n",
              "    animation:\n",
              "      spin 1s steps(1) infinite;\n",
              "  }\n",
              "\n",
              "  @keyframes spin {\n",
              "    0% {\n",
              "      border-color: transparent;\n",
              "      border-bottom-color: var(--fill-color);\n",
              "      border-left-color: var(--fill-color);\n",
              "    }\n",
              "    20% {\n",
              "      border-color: transparent;\n",
              "      border-left-color: var(--fill-color);\n",
              "      border-top-color: var(--fill-color);\n",
              "    }\n",
              "    30% {\n",
              "      border-color: transparent;\n",
              "      border-left-color: var(--fill-color);\n",
              "      border-top-color: var(--fill-color);\n",
              "      border-right-color: var(--fill-color);\n",
              "    }\n",
              "    40% {\n",
              "      border-color: transparent;\n",
              "      border-right-color: var(--fill-color);\n",
              "      border-top-color: var(--fill-color);\n",
              "    }\n",
              "    60% {\n",
              "      border-color: transparent;\n",
              "      border-right-color: var(--fill-color);\n",
              "    }\n",
              "    80% {\n",
              "      border-color: transparent;\n",
              "      border-right-color: var(--fill-color);\n",
              "      border-bottom-color: var(--fill-color);\n",
              "    }\n",
              "    90% {\n",
              "      border-color: transparent;\n",
              "      border-bottom-color: var(--fill-color);\n",
              "    }\n",
              "  }\n",
              "</style>\n",
              "\n",
              "      <script>\n",
              "        async function quickchart(key) {\n",
              "          const quickchartButtonEl =\n",
              "            document.querySelector('#' + key + ' button');\n",
              "          quickchartButtonEl.disabled = true;  // To prevent multiple clicks.\n",
              "          quickchartButtonEl.classList.add('colab-df-spinner');\n",
              "          try {\n",
              "            const charts = await google.colab.kernel.invokeFunction(\n",
              "                'suggestCharts', [key], {});\n",
              "          } catch (error) {\n",
              "            console.error('Error during call to suggestCharts:', error);\n",
              "          }\n",
              "          quickchartButtonEl.classList.remove('colab-df-spinner');\n",
              "          quickchartButtonEl.classList.add('colab-df-quickchart-complete');\n",
              "        }\n",
              "        (() => {\n",
              "          let quickchartButtonEl =\n",
              "            document.querySelector('#df-f7294981-eb44-440a-90e5-3b8e184ea112 button');\n",
              "          quickchartButtonEl.style.display =\n",
              "            google.colab.kernel.accessAllowed ? 'block' : 'none';\n",
              "        })();\n",
              "      </script>\n",
              "    </div>\n",
              "\n",
              "    </div>\n",
              "  </div>\n"
            ],
            "application/vnd.google.colaboratory.intrinsic+json": {
              "type": "dataframe",
              "variable_name": "df",
              "summary": "{\n  \"name\": \"df\",\n  \"rows\": 80,\n  \"fields\": [\n    {\n      \"column\": \"Impression\",\n      \"properties\": {\n        \"dtype\": \"number\",\n        \"std\": 21623.807746815637,\n        \"min\": 45475.94296496167,\n        \"max\": 158605.9204830669,\n        \"num_unique_values\": 80,\n        \"samples\": [\n          108051.8240518553,\n          82529.45927124521,\n          83676.60242811794\n        ],\n        \"semantic_type\": \"\",\n        \"description\": \"\"\n      }\n    },\n    {\n      \"column\": \"Click\",\n      \"properties\": {\n        \"dtype\": \"number\",\n        \"std\": 1272.3760731514465,\n        \"min\": 1836.629861313393,\n        \"max\": 7959.125068737114,\n        \"num_unique_values\": 80,\n        \"samples\": [\n          5919.244970426624,\n          6090.077316567174,\n          7153.974194547935\n        ],\n        \"semantic_type\": \"\",\n        \"description\": \"\"\n      }\n    },\n    {\n      \"column\": \"Purchase\",\n      \"properties\": {\n        \"dtype\": \"number\",\n        \"std\": 148.14183989275048,\n        \"min\": 267.0289428056926,\n        \"max\": 889.9104604457018,\n        \"num_unique_values\": 80,\n        \"samples\": [\n          521.2581105294523,\n          665.2112548893001,\n          487.8287742786007\n        ],\n        \"semantic_type\": \"\",\n        \"description\": \"\"\n      }\n    },\n    {\n      \"column\": \"Earning\",\n      \"properties\": {\n        \"dtype\": \"number\",\n        \"std\": 421.70057549993805,\n        \"min\": 1253.989524652497,\n        \"max\": 3171.489707551377,\n        \"num_unique_values\": 80,\n        \"samples\": [\n          2015.055470632317,\n          2311.277142626756,\n          1989.64191786971\n        ],\n        \"semantic_type\": \"\",\n        \"description\": \"\"\n      }\n    },\n    {\n      \"column\": \"group\",\n      \"properties\": {\n        \"dtype\": \"category\",\n        \"num_unique_values\": 2,\n        \"samples\": [\n          \"test\",\n          \"control\"\n        ],\n        \"semantic_type\": \"\",\n        \"description\": \"\"\n      }\n    }\n  ]\n}"
            }
          },
          "metadata": {},
          "execution_count": 46
        }
      ]
    },
    {
      "cell_type": "code",
      "source": [
        "df.tail()"
      ],
      "metadata": {
        "colab": {
          "base_uri": "https://localhost:8080/",
          "height": 206
        },
        "id": "pGN98YGgHWVK",
        "outputId": "4fc5aa3c-3e1b-4d55-bed6-eadfd8370747"
      },
      "execution_count": 47,
      "outputs": [
        {
          "output_type": "execute_result",
          "data": {
            "text/plain": [
              "     Impression      Click  Purchase    Earning group\n",
              "35  79234.91193 6002.21358 382.04712 2277.86398  test\n",
              "36 130702.23941 3626.32007 449.82459 2530.84133  test\n",
              "37 116481.87337 4702.78247 472.45373 2597.91763  test\n",
              "38  79033.83492 4495.42818 425.35910 2595.85788  test\n",
              "39 102257.45409 4800.06832 521.31073 2967.51839  test"
            ],
            "text/html": [
              "\n",
              "  <div id=\"df-ab6009bc-6bf8-4ddf-b680-6baac7e2439f\" class=\"colab-df-container\">\n",
              "    <div>\n",
              "<style scoped>\n",
              "    .dataframe tbody tr th:only-of-type {\n",
              "        vertical-align: middle;\n",
              "    }\n",
              "\n",
              "    .dataframe tbody tr th {\n",
              "        vertical-align: top;\n",
              "    }\n",
              "\n",
              "    .dataframe thead th {\n",
              "        text-align: right;\n",
              "    }\n",
              "</style>\n",
              "<table border=\"1\" class=\"dataframe\">\n",
              "  <thead>\n",
              "    <tr style=\"text-align: right;\">\n",
              "      <th></th>\n",
              "      <th>Impression</th>\n",
              "      <th>Click</th>\n",
              "      <th>Purchase</th>\n",
              "      <th>Earning</th>\n",
              "      <th>group</th>\n",
              "    </tr>\n",
              "  </thead>\n",
              "  <tbody>\n",
              "    <tr>\n",
              "      <th>35</th>\n",
              "      <td>79234.91193</td>\n",
              "      <td>6002.21358</td>\n",
              "      <td>382.04712</td>\n",
              "      <td>2277.86398</td>\n",
              "      <td>test</td>\n",
              "    </tr>\n",
              "    <tr>\n",
              "      <th>36</th>\n",
              "      <td>130702.23941</td>\n",
              "      <td>3626.32007</td>\n",
              "      <td>449.82459</td>\n",
              "      <td>2530.84133</td>\n",
              "      <td>test</td>\n",
              "    </tr>\n",
              "    <tr>\n",
              "      <th>37</th>\n",
              "      <td>116481.87337</td>\n",
              "      <td>4702.78247</td>\n",
              "      <td>472.45373</td>\n",
              "      <td>2597.91763</td>\n",
              "      <td>test</td>\n",
              "    </tr>\n",
              "    <tr>\n",
              "      <th>38</th>\n",
              "      <td>79033.83492</td>\n",
              "      <td>4495.42818</td>\n",
              "      <td>425.35910</td>\n",
              "      <td>2595.85788</td>\n",
              "      <td>test</td>\n",
              "    </tr>\n",
              "    <tr>\n",
              "      <th>39</th>\n",
              "      <td>102257.45409</td>\n",
              "      <td>4800.06832</td>\n",
              "      <td>521.31073</td>\n",
              "      <td>2967.51839</td>\n",
              "      <td>test</td>\n",
              "    </tr>\n",
              "  </tbody>\n",
              "</table>\n",
              "</div>\n",
              "    <div class=\"colab-df-buttons\">\n",
              "\n",
              "  <div class=\"colab-df-container\">\n",
              "    <button class=\"colab-df-convert\" onclick=\"convertToInteractive('df-ab6009bc-6bf8-4ddf-b680-6baac7e2439f')\"\n",
              "            title=\"Convert this dataframe to an interactive table.\"\n",
              "            style=\"display:none;\">\n",
              "\n",
              "  <svg xmlns=\"http://www.w3.org/2000/svg\" height=\"24px\" viewBox=\"0 -960 960 960\">\n",
              "    <path d=\"M120-120v-720h720v720H120Zm60-500h600v-160H180v160Zm220 220h160v-160H400v160Zm0 220h160v-160H400v160ZM180-400h160v-160H180v160Zm440 0h160v-160H620v160ZM180-180h160v-160H180v160Zm440 0h160v-160H620v160Z\"/>\n",
              "  </svg>\n",
              "    </button>\n",
              "\n",
              "  <style>\n",
              "    .colab-df-container {\n",
              "      display:flex;\n",
              "      gap: 12px;\n",
              "    }\n",
              "\n",
              "    .colab-df-convert {\n",
              "      background-color: #E8F0FE;\n",
              "      border: none;\n",
              "      border-radius: 50%;\n",
              "      cursor: pointer;\n",
              "      display: none;\n",
              "      fill: #1967D2;\n",
              "      height: 32px;\n",
              "      padding: 0 0 0 0;\n",
              "      width: 32px;\n",
              "    }\n",
              "\n",
              "    .colab-df-convert:hover {\n",
              "      background-color: #E2EBFA;\n",
              "      box-shadow: 0px 1px 2px rgba(60, 64, 67, 0.3), 0px 1px 3px 1px rgba(60, 64, 67, 0.15);\n",
              "      fill: #174EA6;\n",
              "    }\n",
              "\n",
              "    .colab-df-buttons div {\n",
              "      margin-bottom: 4px;\n",
              "    }\n",
              "\n",
              "    [theme=dark] .colab-df-convert {\n",
              "      background-color: #3B4455;\n",
              "      fill: #D2E3FC;\n",
              "    }\n",
              "\n",
              "    [theme=dark] .colab-df-convert:hover {\n",
              "      background-color: #434B5C;\n",
              "      box-shadow: 0px 1px 3px 1px rgba(0, 0, 0, 0.15);\n",
              "      filter: drop-shadow(0px 1px 2px rgba(0, 0, 0, 0.3));\n",
              "      fill: #FFFFFF;\n",
              "    }\n",
              "  </style>\n",
              "\n",
              "    <script>\n",
              "      const buttonEl =\n",
              "        document.querySelector('#df-ab6009bc-6bf8-4ddf-b680-6baac7e2439f button.colab-df-convert');\n",
              "      buttonEl.style.display =\n",
              "        google.colab.kernel.accessAllowed ? 'block' : 'none';\n",
              "\n",
              "      async function convertToInteractive(key) {\n",
              "        const element = document.querySelector('#df-ab6009bc-6bf8-4ddf-b680-6baac7e2439f');\n",
              "        const dataTable =\n",
              "          await google.colab.kernel.invokeFunction('convertToInteractive',\n",
              "                                                    [key], {});\n",
              "        if (!dataTable) return;\n",
              "\n",
              "        const docLinkHtml = 'Like what you see? Visit the ' +\n",
              "          '<a target=\"_blank\" href=https://colab.research.google.com/notebooks/data_table.ipynb>data table notebook</a>'\n",
              "          + ' to learn more about interactive tables.';\n",
              "        element.innerHTML = '';\n",
              "        dataTable['output_type'] = 'display_data';\n",
              "        await google.colab.output.renderOutput(dataTable, element);\n",
              "        const docLink = document.createElement('div');\n",
              "        docLink.innerHTML = docLinkHtml;\n",
              "        element.appendChild(docLink);\n",
              "      }\n",
              "    </script>\n",
              "  </div>\n",
              "\n",
              "\n",
              "    <div id=\"df-fb5058eb-fa6d-4350-aa20-5f579947c33d\">\n",
              "      <button class=\"colab-df-quickchart\" onclick=\"quickchart('df-fb5058eb-fa6d-4350-aa20-5f579947c33d')\"\n",
              "                title=\"Suggest charts\"\n",
              "                style=\"display:none;\">\n",
              "\n",
              "<svg xmlns=\"http://www.w3.org/2000/svg\" height=\"24px\"viewBox=\"0 0 24 24\"\n",
              "     width=\"24px\">\n",
              "    <g>\n",
              "        <path d=\"M19 3H5c-1.1 0-2 .9-2 2v14c0 1.1.9 2 2 2h14c1.1 0 2-.9 2-2V5c0-1.1-.9-2-2-2zM9 17H7v-7h2v7zm4 0h-2V7h2v10zm4 0h-2v-4h2v4z\"/>\n",
              "    </g>\n",
              "</svg>\n",
              "      </button>\n",
              "\n",
              "<style>\n",
              "  .colab-df-quickchart {\n",
              "      --bg-color: #E8F0FE;\n",
              "      --fill-color: #1967D2;\n",
              "      --hover-bg-color: #E2EBFA;\n",
              "      --hover-fill-color: #174EA6;\n",
              "      --disabled-fill-color: #AAA;\n",
              "      --disabled-bg-color: #DDD;\n",
              "  }\n",
              "\n",
              "  [theme=dark] .colab-df-quickchart {\n",
              "      --bg-color: #3B4455;\n",
              "      --fill-color: #D2E3FC;\n",
              "      --hover-bg-color: #434B5C;\n",
              "      --hover-fill-color: #FFFFFF;\n",
              "      --disabled-bg-color: #3B4455;\n",
              "      --disabled-fill-color: #666;\n",
              "  }\n",
              "\n",
              "  .colab-df-quickchart {\n",
              "    background-color: var(--bg-color);\n",
              "    border: none;\n",
              "    border-radius: 50%;\n",
              "    cursor: pointer;\n",
              "    display: none;\n",
              "    fill: var(--fill-color);\n",
              "    height: 32px;\n",
              "    padding: 0;\n",
              "    width: 32px;\n",
              "  }\n",
              "\n",
              "  .colab-df-quickchart:hover {\n",
              "    background-color: var(--hover-bg-color);\n",
              "    box-shadow: 0 1px 2px rgba(60, 64, 67, 0.3), 0 1px 3px 1px rgba(60, 64, 67, 0.15);\n",
              "    fill: var(--button-hover-fill-color);\n",
              "  }\n",
              "\n",
              "  .colab-df-quickchart-complete:disabled,\n",
              "  .colab-df-quickchart-complete:disabled:hover {\n",
              "    background-color: var(--disabled-bg-color);\n",
              "    fill: var(--disabled-fill-color);\n",
              "    box-shadow: none;\n",
              "  }\n",
              "\n",
              "  .colab-df-spinner {\n",
              "    border: 2px solid var(--fill-color);\n",
              "    border-color: transparent;\n",
              "    border-bottom-color: var(--fill-color);\n",
              "    animation:\n",
              "      spin 1s steps(1) infinite;\n",
              "  }\n",
              "\n",
              "  @keyframes spin {\n",
              "    0% {\n",
              "      border-color: transparent;\n",
              "      border-bottom-color: var(--fill-color);\n",
              "      border-left-color: var(--fill-color);\n",
              "    }\n",
              "    20% {\n",
              "      border-color: transparent;\n",
              "      border-left-color: var(--fill-color);\n",
              "      border-top-color: var(--fill-color);\n",
              "    }\n",
              "    30% {\n",
              "      border-color: transparent;\n",
              "      border-left-color: var(--fill-color);\n",
              "      border-top-color: var(--fill-color);\n",
              "      border-right-color: var(--fill-color);\n",
              "    }\n",
              "    40% {\n",
              "      border-color: transparent;\n",
              "      border-right-color: var(--fill-color);\n",
              "      border-top-color: var(--fill-color);\n",
              "    }\n",
              "    60% {\n",
              "      border-color: transparent;\n",
              "      border-right-color: var(--fill-color);\n",
              "    }\n",
              "    80% {\n",
              "      border-color: transparent;\n",
              "      border-right-color: var(--fill-color);\n",
              "      border-bottom-color: var(--fill-color);\n",
              "    }\n",
              "    90% {\n",
              "      border-color: transparent;\n",
              "      border-bottom-color: var(--fill-color);\n",
              "    }\n",
              "  }\n",
              "</style>\n",
              "\n",
              "      <script>\n",
              "        async function quickchart(key) {\n",
              "          const quickchartButtonEl =\n",
              "            document.querySelector('#' + key + ' button');\n",
              "          quickchartButtonEl.disabled = true;  // To prevent multiple clicks.\n",
              "          quickchartButtonEl.classList.add('colab-df-spinner');\n",
              "          try {\n",
              "            const charts = await google.colab.kernel.invokeFunction(\n",
              "                'suggestCharts', [key], {});\n",
              "          } catch (error) {\n",
              "            console.error('Error during call to suggestCharts:', error);\n",
              "          }\n",
              "          quickchartButtonEl.classList.remove('colab-df-spinner');\n",
              "          quickchartButtonEl.classList.add('colab-df-quickchart-complete');\n",
              "        }\n",
              "        (() => {\n",
              "          let quickchartButtonEl =\n",
              "            document.querySelector('#df-fb5058eb-fa6d-4350-aa20-5f579947c33d button');\n",
              "          quickchartButtonEl.style.display =\n",
              "            google.colab.kernel.accessAllowed ? 'block' : 'none';\n",
              "        })();\n",
              "      </script>\n",
              "    </div>\n",
              "\n",
              "    </div>\n",
              "  </div>\n"
            ],
            "application/vnd.google.colaboratory.intrinsic+json": {
              "type": "dataframe",
              "summary": "{\n  \"name\": \"df\",\n  \"rows\": 5,\n  \"fields\": [\n    {\n      \"column\": \"Impression\",\n      \"properties\": {\n        \"dtype\": \"number\",\n        \"std\": 22793.940678400828,\n        \"min\": 79033.83492053542,\n        \"max\": 130702.2394096042,\n        \"num_unique_values\": 5,\n        \"samples\": [\n          130702.2394096042,\n          102257.454089489,\n          116481.8733653302\n        ],\n        \"semantic_type\": \"\",\n        \"description\": \"\"\n      }\n    },\n    {\n      \"column\": \"Click\",\n      \"properties\": {\n        \"dtype\": \"number\",\n        \"std\": 851.0586880004182,\n        \"min\": 3626.320072111947,\n        \"max\": 6002.21358487617,\n        \"num_unique_values\": 5,\n        \"samples\": [\n          3626.320072111947,\n          4800.068321110035,\n          4702.782468077035\n        ],\n        \"semantic_type\": \"\",\n        \"description\": \"\"\n      }\n    },\n    {\n      \"column\": \"Purchase\",\n      \"properties\": {\n        \"dtype\": \"number\",\n        \"std\": 51.99517007490636,\n        \"min\": 382.0471157175812,\n        \"max\": 521.3107290689632,\n        \"num_unique_values\": 5,\n        \"samples\": [\n          449.8245920042294,\n          521.3107290689632,\n          472.4537254334604\n        ],\n        \"semantic_type\": \"\",\n        \"description\": \"\"\n      }\n    },\n    {\n      \"column\": \"Earning\",\n      \"properties\": {\n        \"dtype\": \"number\",\n        \"std\": 246.7112611433931,\n        \"min\": 2277.863984286158,\n        \"max\": 2967.518389831484,\n        \"num_unique_values\": 5,\n        \"samples\": [\n          2530.841327073095,\n          2967.518389831484,\n          2597.917632221663\n        ],\n        \"semantic_type\": \"\",\n        \"description\": \"\"\n      }\n    },\n    {\n      \"column\": \"group\",\n      \"properties\": {\n        \"dtype\": \"category\",\n        \"num_unique_values\": 1,\n        \"samples\": [\n          \"test\"\n        ],\n        \"semantic_type\": \"\",\n        \"description\": \"\"\n      }\n    }\n  ]\n}"
            }
          },
          "metadata": {},
          "execution_count": 47
        }
      ]
    },
    {
      "cell_type": "code",
      "source": [
        "# Grupların ortalama satın alma değerleri\n",
        "sns.barplot(data=df, x=\"group\", y=\"Purchase\", ci=False, palette=\"pastel\")\n",
        "plt.title(\"Kontrol ve Test Grubu Satın Alma Ortalamaları\")\n",
        "plt.ylabel(\"Ortalama Satın Alma\")\n",
        "plt.xlabel(\"Grup\")\n",
        "plt.show()"
      ],
      "metadata": {
        "colab": {
          "base_uri": "https://localhost:8080/",
          "height": 646
        },
        "id": "dAXS4bqQg0Tx",
        "outputId": "d6610cff-85d0-4084-f29b-4e32f1a63ec3"
      },
      "execution_count": 48,
      "outputs": [
        {
          "output_type": "stream",
          "name": "stderr",
          "text": [
            "/tmp/ipython-input-48-3835794550.py:2: FutureWarning: \n",
            "\n",
            "The `ci` parameter is deprecated. Use `errorbar=('ci', False)` for the same effect.\n",
            "\n",
            "  sns.barplot(data=df, x=\"group\", y=\"Purchase\", ci=False, palette=\"pastel\")\n",
            "/tmp/ipython-input-48-3835794550.py:2: FutureWarning: \n",
            "\n",
            "Passing `palette` without assigning `hue` is deprecated and will be removed in v0.14.0. Assign the `x` variable to `hue` and set `legend=False` for the same effect.\n",
            "\n",
            "  sns.barplot(data=df, x=\"group\", y=\"Purchase\", ci=False, palette=\"pastel\")\n"
          ]
        },
        {
          "output_type": "display_data",
          "data": {
            "text/plain": [
              "<Figure size 640x480 with 1 Axes>"
            ],
            "image/png": "[encoded data removed]"
          },
          "metadata": {}
        }
      ]
    },
    {
      "cell_type": "code",
      "source": [
        "sns.boxplot(data=df, x=\"group\", y=\"Purchase\", palette=\"Set2\")\n",
        "plt.title(\"Kontrol ve Test Grubu Satın Alma Dağılımları\")\n",
        "plt.ylabel(\"Satın Alma\")\n",
        "plt.xlabel(\"Grup\")\n",
        "plt.show()"
      ],
      "metadata": {
        "colab": {
          "base_uri": "https://localhost:8080/",
          "height": 559
        },
        "id": "CgWuDtolg4wy",
        "outputId": "75edf051-e879-4350-f43f-8aa24c817bd4"
      },
      "execution_count": 49,
      "outputs": [
        {
          "output_type": "stream",
          "name": "stderr",
          "text": [
            "/tmp/ipython-input-49-2341654451.py:1: FutureWarning: \n",
            "\n",
            "Passing `palette` without assigning `hue` is deprecated and will be removed in v0.14.0. Assign the `x` variable to `hue` and set `legend=False` for the same effect.\n",
            "\n",
            "  sns.boxplot(data=df, x=\"group\", y=\"Purchase\", palette=\"Set2\")\n"
          ]
        },
        {
          "output_type": "display_data",
          "data": {
            "text/plain": [
              "<Figure size 640x480 with 1 Axes>"
            ],
            "image/png": "[encoded data removed]"
          },
          "metadata": {}
        }
      ]
    },
    {
      "cell_type": "code",
      "source": [
        "plt.figure(figsize=(10, 6))\n",
        "sns.histplot(df[df[\"group\"]==\"control\"][\"Purchase\"], label=\"Control\", kde=True, color=\"skyblue\")\n",
        "sns.histplot(df[df[\"group\"]==\"test\"][\"Purchase\"], label=\"Test\", kde=True, color=\"salmon\")\n",
        "plt.title(\"Purchase Değerlerinin Dağılımı (Control vs Test)\")\n",
        "plt.xlabel(\"Purchase\")\n",
        "plt.legend()\n",
        "plt.show()"
      ],
      "metadata": {
        "colab": {
          "base_uri": "https://localhost:8080/",
          "height": 564
        },
        "id": "Vm8mbxgjg8Bj",
        "outputId": "a01ef5fe-6720-4a71-8d39-1571aa639321"
      },
      "execution_count": 50,
      "outputs": [
        {
          "output_type": "display_data",
          "data": {
            "text/plain": [
              "<Figure size 1000x600 with 1 Axes>"
            ],
            "image/png": "[encoded data removed]"
          },
          "metadata": {}
        }
      ]
    },
    {
      "cell_type": "code",
      "source": [
        "#####################################################################\n",
        "# Görev 2 : A/B Testinin Hipotezinin Tanımlanması\n",
        "#####################################################################"
      ],
      "metadata": {
        "id": "trZi5ymaHyU_"
      },
      "execution_count": 51,
      "outputs": []
    },
    {
      "cell_type": "code",
      "source": [
        "# H0 : M1 = M2 (Konrol grubu ve test grubu satın alma ortalamaları arasında fark yoktur)\n",
        "# H1 : M1 != M2 (Konrol grubu ve test grubu satın alma ortalamaları arasında fark vardır)"
      ],
      "metadata": {
        "id": "wRusAfICISOi"
      },
      "execution_count": 52,
      "outputs": []
    },
    {
      "cell_type": "code",
      "source": [
        "df.groupby(\"group\").agg({\"Purchase\": \"mean\"})"
      ],
      "metadata": {
        "colab": {
          "base_uri": "https://localhost:8080/",
          "height": 143
        },
        "id": "T8jWgCgoIpq9",
        "outputId": "693751e0-7212-43a7-875f-aef60ffb6b84"
      },
      "execution_count": 53,
      "outputs": [
        {
          "output_type": "execute_result",
          "data": {
            "text/plain": [
              "         Purchase\n",
              "group            \n",
              "control 550.89406\n",
              "test    582.10610"
            ],
            "text/html": [
              "\n",
              "  <div id=\"df-0f562798-9503-4c3a-b014-e11c70c18bd4\" class=\"colab-df-container\">\n",
              "    <div>\n",
              "<style scoped>\n",
              "    .dataframe tbody tr th:only-of-type {\n",
              "        vertical-align: middle;\n",
              "    }\n",
              "\n",
              "    .dataframe tbody tr th {\n",
              "        vertical-align: top;\n",
              "    }\n",
              "\n",
              "    .dataframe thead th {\n",
              "        text-align: right;\n",
              "    }\n",
              "</style>\n",
              "<table border=\"1\" class=\"dataframe\">\n",
              "  <thead>\n",
              "    <tr style=\"text-align: right;\">\n",
              "      <th></th>\n",
              "      <th>Purchase</th>\n",
              "    </tr>\n",
              "    <tr>\n",
              "      <th>group</th>\n",
              "      <th></th>\n",
              "    </tr>\n",
              "  </thead>\n",
              "  <tbody>\n",
              "    <tr>\n",
              "      <th>control</th>\n",
              "      <td>550.89406</td>\n",
              "    </tr>\n",
              "    <tr>\n",
              "      <th>test</th>\n",
              "      <td>582.10610</td>\n",
              "    </tr>\n",
              "  </tbody>\n",
              "</table>\n",
              "</div>\n",
              "    <div class=\"colab-df-buttons\">\n",
              "\n",
              "  <div class=\"colab-df-container\">\n",
              "    <button class=\"colab-df-convert\" onclick=\"convertToInteractive('df-0f562798-9503-4c3a-b014-e11c70c18bd4')\"\n",
              "            title=\"Convert this dataframe to an interactive table.\"\n",
              "            style=\"display:none;\">\n",
              "\n",
              "  <svg xmlns=\"http://www.w3.org/2000/svg\" height=\"24px\" viewBox=\"0 -960 960 960\">\n",
              "    <path d=\"M120-120v-720h720v720H120Zm60-500h600v-160H180v160Zm220 220h160v-160H400v160Zm0 220h160v-160H400v160ZM180-400h160v-160H180v160Zm440 0h160v-160H620v160ZM180-180h160v-160H180v160Zm440 0h160v-160H620v160Z\"/>\n",
              "  </svg>\n",
              "    </button>\n",
              "\n",
              "  <style>\n",
              "    .colab-df-container {\n",
              "      display:flex;\n",
              "      gap: 12px;\n",
              "    }\n",
              "\n",
              "    .colab-df-convert {\n",
              "      background-color: #E8F0FE;\n",
              "      border: none;\n",
              "      border-radius: 50%;\n",
              "      cursor: pointer;\n",
              "      display: none;\n",
              "      fill: #1967D2;\n",
              "      height: 32px;\n",
              "      padding: 0 0 0 0;\n",
              "      width: 32px;\n",
              "    }\n",
              "\n",
              "    .colab-df-convert:hover {\n",
              "      background-color: #E2EBFA;\n",
              "      box-shadow: 0px 1px 2px rgba(60, 64, 67, 0.3), 0px 1px 3px 1px rgba(60, 64, 67, 0.15);\n",
              "      fill: #174EA6;\n",
              "    }\n",
              "\n",
              "    .colab-df-buttons div {\n",
              "      margin-bottom: 4px;\n",
              "    }\n",
              "\n",
              "    [theme=dark] .colab-df-convert {\n",
              "      background-color: #3B4455;\n",
              "      fill: #D2E3FC;\n",
              "    }\n",
              "\n",
              "    [theme=dark] .colab-df-convert:hover {\n",
              "      background-color: #434B5C;\n",
              "      box-shadow: 0px 1px 3px 1px rgba(0, 0, 0, 0.15);\n",
              "      filter: drop-shadow(0px 1px 2px rgba(0, 0, 0, 0.3));\n",
              "      fill: #FFFFFF;\n",
              "    }\n",
              "  </style>\n",
              "\n",
              "    <script>\n",
              "      const buttonEl =\n",
              "        document.querySelector('#df-0f562798-9503-4c3a-b014-e11c70c18bd4 button.colab-df-convert');\n",
              "      buttonEl.style.display =\n",
              "        google.colab.kernel.accessAllowed ? 'block' : 'none';\n",
              "\n",
              "      async function convertToInteractive(key) {\n",
              "        const element = document.querySelector('#df-0f562798-9503-4c3a-b014-e11c70c18bd4');\n",
              "        const dataTable =\n",
              "          await google.colab.kernel.invokeFunction('convertToInteractive',\n",
              "                                                    [key], {});\n",
              "        if (!dataTable) return;\n",
              "\n",
              "        const docLinkHtml = 'Like what you see? Visit the ' +\n",
              "          '<a target=\"_blank\" href=https://colab.research.google.com/notebooks/data_table.ipynb>data table notebook</a>'\n",
              "          + ' to learn more about interactive tables.';\n",
              "        element.innerHTML = '';\n",
              "        dataTable['output_type'] = 'display_data';\n",
              "        await google.colab.output.renderOutput(dataTable, element);\n",
              "        const docLink = document.createElement('div');\n",
              "        docLink.innerHTML = docLinkHtml;\n",
              "        element.appendChild(docLink);\n",
              "      }\n",
              "    </script>\n",
              "  </div>\n",
              "\n",
              "\n",
              "    <div id=\"df-7a6dd885-ca7a-48d5-9de5-75709d125f3a\">\n",
              "      <button class=\"colab-df-quickchart\" onclick=\"quickchart('df-7a6dd885-ca7a-48d5-9de5-75709d125f3a')\"\n",
              "                title=\"Suggest charts\"\n",
              "                style=\"display:none;\">\n",
              "\n",
              "<svg xmlns=\"http://www.w3.org/2000/svg\" height=\"24px\"viewBox=\"0 0 24 24\"\n",
              "     width=\"24px\">\n",
              "    <g>\n",
              "        <path d=\"M19 3H5c-1.1 0-2 .9-2 2v14c0 1.1.9 2 2 2h14c1.1 0 2-.9 2-2V5c0-1.1-.9-2-2-2zM9 17H7v-7h2v7zm4 0h-2V7h2v10zm4 0h-2v-4h2v4z\"/>\n",
              "    </g>\n",
              "</svg>\n",
              "      </button>\n",
              "\n",
              "<style>\n",
              "  .colab-df-quickchart {\n",
              "      --bg-color: #E8F0FE;\n",
              "      --fill-color: #1967D2;\n",
              "      --hover-bg-color: #E2EBFA;\n",
              "      --hover-fill-color: #174EA6;\n",
              "      --disabled-fill-color: #AAA;\n",
              "      --disabled-bg-color: #DDD;\n",
              "  }\n",
              "\n",
              "  [theme=dark] .colab-df-quickchart {\n",
              "      --bg-color: #3B4455;\n",
              "      --fill-color: #D2E3FC;\n",
              "      --hover-bg-color: #434B5C;\n",
              "      --hover-fill-color: #FFFFFF;\n",
              "      --disabled-bg-color: #3B4455;\n",
              "      --disabled-fill-color: #666;\n",
              "  }\n",
              "\n",
              "  .colab-df-quickchart {\n",
              "    background-color: var(--bg-color);\n",
              "    border: none;\n",
              "    border-radius: 50%;\n",
              "    cursor: pointer;\n",
              "    display: none;\n",
              "    fill: var(--fill-color);\n",
              "    height: 32px;\n",
              "    padding: 0;\n",
              "    width: 32px;\n",
              "  }\n",
              "\n",
              "  .colab-df-quickchart:hover {\n",
              "    background-color: var(--hover-bg-color);\n",
              "    box-shadow: 0 1px 2px rgba(60, 64, 67, 0.3), 0 1px 3px 1px rgba(60, 64, 67, 0.15);\n",
              "    fill: var(--button-hover-fill-color);\n",
              "  }\n",
              "\n",
              "  .colab-df-quickchart-complete:disabled,\n",
              "  .colab-df-quickchart-complete:disabled:hover {\n",
              "    background-color: var(--disabled-bg-color);\n",
              "    fill: var(--disabled-fill-color);\n",
              "    box-shadow: none;\n",
              "  }\n",
              "\n",
              "  .colab-df-spinner {\n",
              "    border: 2px solid var(--fill-color);\n",
              "    border-color: transparent;\n",
              "    border-bottom-color: var(--fill-color);\n",
              "    animation:\n",
              "      spin 1s steps(1) infinite;\n",
              "  }\n",
              "\n",
              "  @keyframes spin {\n",
              "    0% {\n",
              "      border-color: transparent;\n",
              "      border-bottom-color: var(--fill-color);\n",
              "      border-left-color: var(--fill-color);\n",
              "    }\n",
              "    20% {\n",
              "      border-color: transparent;\n",
              "      border-left-color: var(--fill-color);\n",
              "      border-top-color: var(--fill-color);\n",
              "    }\n",
              "    30% {\n",
              "      border-color: transparent;\n",
              "      border-left-color: var(--fill-color);\n",
              "      border-top-color: var(--fill-color);\n",
              "      border-right-color: var(--fill-color);\n",
              "    }\n",
              "    40% {\n",
              "      border-color: transparent;\n",
              "      border-right-color: var(--fill-color);\n",
              "      border-top-color: var(--fill-color);\n",
              "    }\n",
              "    60% {\n",
              "      border-color: transparent;\n",
              "      border-right-color: var(--fill-color);\n",
              "    }\n",
              "    80% {\n",
              "      border-color: transparent;\n",
              "      border-right-color: var(--fill-color);\n",
              "      border-bottom-color: var(--fill-color);\n",
              "    }\n",
              "    90% {\n",
              "      border-color: transparent;\n",
              "      border-bottom-color: var(--fill-color);\n",
              "    }\n",
              "  }\n",
              "</style>\n",
              "\n",
              "      <script>\n",
              "        async function quickchart(key) {\n",
              "          const quickchartButtonEl =\n",
              "            document.querySelector('#' + key + ' button');\n",
              "          quickchartButtonEl.disabled = true;  // To prevent multiple clicks.\n",
              "          quickchartButtonEl.classList.add('colab-df-spinner');\n",
              "          try {\n",
              "            const charts = await google.colab.kernel.invokeFunction(\n",
              "                'suggestCharts', [key], {});\n",
              "          } catch (error) {\n",
              "            console.error('Error during call to suggestCharts:', error);\n",
              "          }\n",
              "          quickchartButtonEl.classList.remove('colab-df-spinner');\n",
              "          quickchartButtonEl.classList.add('colab-df-quickchart-complete');\n",
              "        }\n",
              "        (() => {\n",
              "          let quickchartButtonEl =\n",
              "            document.querySelector('#df-7a6dd885-ca7a-48d5-9de5-75709d125f3a button');\n",
              "          quickchartButtonEl.style.display =\n",
              "            google.colab.kernel.accessAllowed ? 'block' : 'none';\n",
              "        })();\n",
              "      </script>\n",
              "    </div>\n",
              "\n",
              "    </div>\n",
              "  </div>\n"
            ],
            "application/vnd.google.colaboratory.intrinsic+json": {
              "type": "dataframe",
              "summary": "{\n  \"name\": \"df\",\n  \"rows\": 2,\n  \"fields\": [\n    {\n      \"column\": \"group\",\n      \"properties\": {\n        \"dtype\": \"string\",\n        \"num_unique_values\": 2,\n        \"samples\": [\n          \"test\",\n          \"control\"\n        ],\n        \"semantic_type\": \"\",\n        \"description\": \"\"\n      }\n    },\n    {\n      \"column\": \"Purchase\",\n      \"properties\": {\n        \"dtype\": \"number\",\n        \"std\": 22.070243638352018,\n        \"min\": 550.8940587702316,\n        \"max\": 582.1060966484675,\n        \"num_unique_values\": 2,\n        \"samples\": [\n          582.1060966484675,\n          550.8940587702316\n        ],\n        \"semantic_type\": \"\",\n        \"description\": \"\"\n      }\n    }\n  ]\n}"
            }
          },
          "metadata": {},
          "execution_count": 53
        }
      ]
    },
    {
      "cell_type": "code",
      "source": [
        "########################################################\n",
        "# GÖREV 3: Hipotez Testinin Gerçekleştirilmesi\n",
        "########################################################"
      ],
      "metadata": {
        "id": "2gLFILeoJNQW"
      },
      "execution_count": 54,
      "outputs": []
    },
    {
      "cell_type": "code",
      "source": [
        "# Hipotez testi yapılmadan önce varsayım kontrollerini yapalım. Bunlar Normallik Varsayımı ve Varyans Homojenliğidir."
      ],
      "metadata": {
        "id": "vep16PX_JeWt"
      },
      "execution_count": 55,
      "outputs": []
    },
    {
      "cell_type": "code",
      "source": [
        "# Normallik Varsayıımı :\n",
        "# H0: Normal dağılım varsayımı sağlanmaktadır.\n",
        "# H1: Normal dağılım varsayımı sağlanmamaktadır.\n",
        "# p < 0.05 H0 RED\n",
        "# P > 0.05 H0 REDDEDİLEMEZ"
      ],
      "metadata": {
        "id": "VNuHRcfaJxFb"
      },
      "execution_count": 56,
      "outputs": []
    },
    {
      "cell_type": "code",
      "source": [
        "test_stat, pvalue = shapiro(df.loc[df[\"group\"] == \"control\", \"Purchase\"])\n",
        "print(\"Test Stat = %.4f, p-value = %.4f\" % (test_stat, pvalue))"
      ],
      "metadata": {
        "colab": {
          "base_uri": "https://localhost:8080/"
        },
        "id": "e7zH9hsoKdh-",
        "outputId": "8bdf7ead-92a3-4ab5-e4e5-4c0ce2d4ce97"
      },
      "execution_count": 57,
      "outputs": [
        {
          "output_type": "stream",
          "name": "stdout",
          "text": [
            "Test Stat = 0.9773, p-value = 0.5891\n"
          ]
        }
      ]
    },
    {
      "cell_type": "code",
      "source": [
        "# H0 reddedilemez. Control grubunun değerleri normal dağılım varsayımı sağlamaktadır"
      ],
      "metadata": {
        "id": "OCz11ZxFLit_"
      },
      "execution_count": 58,
      "outputs": []
    },
    {
      "cell_type": "code",
      "source": [
        "test_stat, pvalue = shapiro(df.loc[df[\"group\"] == \"test\", \"Purchase\"])\n",
        "print(\"Test Stat = %.4f, p-value = %.4f\" % (test_stat, pvalue))"
      ],
      "metadata": {
        "colab": {
          "base_uri": "https://localhost:8080/"
        },
        "id": "V10mzIE0MC6d",
        "outputId": "ec68a4b4-5379-4950-a957-194b0b0a11b8"
      },
      "execution_count": 59,
      "outputs": [
        {
          "output_type": "stream",
          "name": "stdout",
          "text": [
            "Test Stat = 0.9589, p-value = 0.1541\n"
          ]
        }
      ]
    },
    {
      "cell_type": "code",
      "source": [
        "# H0 reddedilemez. Test grubunun değerleri normal dağılım varsayımı sağlamaktadır"
      ],
      "metadata": {
        "id": "3fvslHAaMK7w"
      },
      "execution_count": 60,
      "outputs": []
    },
    {
      "cell_type": "code",
      "source": [
        "# Varyans Homojenliği:\n",
        "# H0 : Varyanslar homojendir\n",
        "# H1 : Varyanslar homojen değildir\n",
        "# p < 0.05 HO RED\n",
        "# P > 0.05 H0 REDDEDİLEMEZ"
      ],
      "metadata": {
        "id": "jemk5QnNMuA0"
      },
      "execution_count": 61,
      "outputs": []
    },
    {
      "cell_type": "code",
      "source": [
        "test_stat, pvalue = levene(df.loc[df[\"group\"] == \"control\", \"Purchase\"],\n",
        "                            df.loc[df[\"group\"] == \"test\", \"Purchase\"])\n",
        "print(\"Test Stat = %.4f, p-value = %.4f\" % (test_stat, pvalue))"
      ],
      "metadata": {
        "colab": {
          "base_uri": "https://localhost:8080/"
        },
        "id": "rCVFA3V6N62L",
        "outputId": "ca1b3339-f5e2-4b7f-e0ed-caafd5fb82bc"
      },
      "execution_count": 62,
      "outputs": [
        {
          "output_type": "stream",
          "name": "stdout",
          "text": [
            "Test Stat = 2.6393, p-value = 0.1083\n"
          ]
        }
      ]
    },
    {
      "cell_type": "code",
      "source": [
        "# H0 reddedilemez. Control ve test grubunun değerleri varyans homojenliği varsayımını sağlamaktadır."
      ],
      "metadata": {
        "id": "9h-eMMtpOCAY"
      },
      "execution_count": 63,
      "outputs": []
    },
    {
      "cell_type": "code",
      "source": [
        "# Varsayımlar gerçekleştiği için bağımsız iki örneklem t testi (parametrik test) yapılmaktadır.\n",
        "# H0: M1 = M2 (Kontrol grubu ve test grubu satın alma ortalamaları arasında istatistiksel olarak anlamlı fark yoktur.)\n",
        "# H0: M1 != M2 (Kontrol grubu ve test grubu satın alma ortalamaları arasında istatistiksel olarak anlamlı fark vardır.)\n",
        "# p < 0.05 H0 RED , p > 0.05 H0 REDDEDİLEMEZ"
      ],
      "metadata": {
        "id": "86GqcyybObgX"
      },
      "execution_count": 64,
      "outputs": []
    },
    {
      "cell_type": "code",
      "source": [
        "test_stat, pvalue = ttest_ind(df.loc[df[\"group\"] == \"control\", \"Purchase\"],\n",
        "                              df.loc[df[\"group\"] == \"test\", \"Purchase\"],\n",
        "                              equal_var =True)\n",
        "print(\"Test Stat = %.4f, p-value = %.4f\" % (test_stat, pvalue))"
      ],
      "metadata": {
        "colab": {
          "base_uri": "https://localhost:8080/"
        },
        "id": "S15gU-3CPQhh",
        "outputId": "b998d11d-c494-44eb-8f10-c97a4faaa83e"
      },
      "execution_count": 65,
      "outputs": [
        {
          "output_type": "stream",
          "name": "stdout",
          "text": [
            "Test Stat = -0.9416, p-value = 0.3493\n"
          ]
        }
      ]
    },
    {
      "cell_type": "code",
      "source": [
        "# H0 REDDEDİLEMEZ. İki grup arasında anlamlı bir farklılık yoktur."
      ],
      "metadata": {
        "id": "_UvFGsjsP3X0"
      },
      "execution_count": 66,
      "outputs": []
    },
    {
      "cell_type": "code",
      "source": [
        "########################################################\n",
        "# GÖREV 4 : Sonuçların Analizi\n",
        "########################################################"
      ],
      "metadata": {
        "id": "nZWl1Tvqcy1S"
      },
      "execution_count": 67,
      "outputs": []
    },
    {
      "cell_type": "markdown",
      "source": [
        "📌 SONUÇLAR VE ÖNERİLER\n",
        "\n",
        "✅ Analiz Özeti\n",
        "\n",
        "* Normallik varsayımı her iki grup için de sağlanmıştır.\n",
        "\n",
        "* Varyans homojenliği varsayımı sağlanmıştır.\n",
        "\n",
        "* Uygulanan bağımsız iki örneklem t-testi sonucunda:\n",
        "\n",
        "  - p-value > 0.05 → H₀ reddedilemez.\n",
        "\n",
        "  - Yani, Average Bidding, Maximum Bidding’e göre istatistiksel olarak anlamlı bir dönüşüm farkı yaratmamıştır.\n",
        "\n",
        "* Her iki grubun Purchase (satın alma) ortalamaları birbirine oldukça yakındır.\n",
        "\n",
        "🎯 Öneriler\n",
        "\n",
        "1. Average Bidding Yöntemi Hemen Uygulamaya Alınmamalıdır\n",
        "\n",
        "   - Analiz sonuçlarına göre, Average Bidding’in daha iyi performans gösterdiğine dair istatistiksel bir kanıt bulunmamaktadır.\n",
        "\n",
        "   - Bu nedenle reklam stratejisinin tamamen Average Bidding’e geçirilmesi önerilmez.\n",
        "\n",
        "2. Segment Bazlı Yeni A/B Testleri Planlanmalıdır\n",
        "\n",
        "   - Farklı kullanıcı segmentlerinde performans değişebilir.\n",
        "\n",
        "   - Özellikle şu segmentler bazında yeniden test yapılması önerilir:\n",
        "\n",
        "      * Yeni ve sadık kullanıcılar\n",
        "\n",
        "      * Yaş grupları\n",
        "\n",
        "      * Mobil / desktop kullanıcıları\n",
        "\n",
        "3. Ek Başarı Metrikleri Dikkate Alınmalıdır\n",
        "\n",
        "   - Sadece satın alma (Purchase) değil;\n",
        "\n",
        "      * Click-Through Rate (CTR)\n",
        "\n",
        "      * Return on Ad Spend (ROAS)\n",
        "\n",
        "      * Earning (Gelir) gibi metrikler de analiz edilmelidir.\n",
        "\n",
        "  - Average Bidding belki daha az satış getiriyor olabilir, ama daha düşük maliyetle daha kârlı olabilir.\n",
        "\n",
        "\n",
        "\n",
        "✅ Nihai Tavsiye\n",
        "\n",
        "Yapılan A/B testine göre Average Bidding, Maximum Bidding’e göre istatistiksel olarak anlamlı bir fark yaratmamıştır. Bu nedenle mevcut aşamada tüm kampanyaların yeni teklif yöntemine geçirilmesi önerilmemektedir. Ancak daha fazla kullanıcı segmenti ve ek başarı metrikleriyle yapılacak yeni analizler, karar sürecine daha fazla ışık tutacaktır.\n"
      ],
      "metadata": {
        "id": "2V_VGyUtd-kz"
      }
    },
    {
      "cell_type": "code",
      "source": [],
      "metadata": {
        "id": "5ASkKMkYhFHY"
      },
      "execution_count": 67,
      "outputs": []
    }
  ]
}